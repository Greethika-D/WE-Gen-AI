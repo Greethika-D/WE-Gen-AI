{
  "nbformat": 4,
  "nbformat_minor": 0,
  "metadata": {
    "colab": {
      "provenance": [],
      "include_colab_link": true
    },
    "kernelspec": {
      "name": "python3",
      "display_name": "Python 3"
    },
    "language_info": {
      "name": "python"
    }
  },
  "cells": [
    {
      "cell_type": "markdown",
      "metadata": {
        "id": "view-in-github",
        "colab_type": "text"
      },
      "source": [
        "<a href=\"https://colab.research.google.com/github/Greethika-D/WE-Gen-AI/blob/main/WE_Gen_AI.ipynb\" target=\"_parent\"><img src=\"https://colab.research.google.com/assets/colab-badge.svg\" alt=\"Open In Colab\"/></a>"
      ]
    },
    {
      "cell_type": "markdown",
      "source": [
        "Assignment 1"
      ],
      "metadata": {
        "id": "W5-z-58AUwlw"
      }
    },
    {
      "cell_type": "code",
      "execution_count": null,
      "metadata": {
        "colab": {
          "base_uri": "https://localhost:8080/"
        },
        "id": "iDQFO7DqSFQQ",
        "outputId": "855b49ee-6fc5-463d-c02e-8cd2ac870872"
      },
      "outputs": [
        {
          "output_type": "stream",
          "name": "stdout",
          "text": [
            "{'Ones': 1, 'Twos': 2, 'Threes': 3, 'Fours': 4, 'Fives': 5, 'Sixes': 0, 'Three of a Kind': 0, 'Four of a Kind': 0, 'Full House': 0, 'Small Straight': 0, 'Large Straight': 40, 'Yahtzee': 0, 'Chance': 15}\n"
          ]
        }
      ],
      "source": [
        "def score(dice):\n",
        "    categories = {\n",
        "        \"Ones\": sum(d for d in dice if d == 1),\n",
        "        \"Twos\": sum(d for d in dice if d == 2),\n",
        "        \"Threes\": sum(d for d in dice if d == 3),\n",
        "        \"Fours\": sum(d for d in dice if d == 4),\n",
        "        \"Fives\": sum(d for d in dice if d == 5),\n",
        "        \"Sixes\": sum(d for d in dice if d == 6),\n",
        "        \"Three of a Kind\": sum(dice) if any(dice.count(d) >= 3 for d in dice) else 0,\n",
        "        \"Four of a Kind\": sum(dice) if any(dice.count(d) >= 4 for d in dice) else 0,\n",
        "        \"Full House\": sum(dice) if any(dice.count(d) == 3 for d in dice) and any(dice.count(d) == 2 for d in dice) else 0,\n",
        "        \"Small Straight\": 30 if sorted(set(dice)) in [[1, 2, 3, 4], [2, 3, 4, 5], [3, 4, 5, 6]] else 0,\n",
        "        \"Large Straight\": 40 if sorted(set(dice)) in [[1, 2, 3, 4, 5], [2, 3, 4, 5, 6]] else 0,\n",
        "        \"Yahtzee\": 50 if any(dice.count(d) == 5 for d in dice) else 0,\n",
        "        \"Chance\": sum(dice)\n",
        "    }\n",
        "    return categories\n",
        "\n",
        "# Example usage:\n",
        "dice = [1, 2, 3, 4, 5]\n",
        "print(score(dice))\n"
      ]
    },
    {
      "cell_type": "markdown",
      "source": [
        "Assignment 3"
      ],
      "metadata": {
        "id": "8ZXX496ZVBJv"
      }
    },
    {
      "cell_type": "code",
      "source": [
        "import random\n",
        "\n",
        "def roll_dice():\n",
        "    return [random.randint(1, 6) for _ in range(5)]\n",
        "\n",
        "def display_dice(dice):\n",
        "    print(\"Your roll:\", \" \".join(map(str, dice)))\n",
        "\n",
        "def reroll_dice(dice, keep):\n",
        "    return [dice[i] if keep[i] else random.randint(1, 6) for i in range(5)]\n",
        "\n",
        "def choose_category():\n",
        "    print(\"\\nAvailable categories:\")\n",
        "    for i, category in enumerate(categories, start=1):\n",
        "        print(f\"{i}. {category}\")\n",
        "    choice = int(input(\"Choose a category to score in: \"))\n",
        "    return categories[choice - 1]\n",
        "\n",
        "def calculate_score(dice, category):\n",
        "    if category == \"Three of a Kind\":\n",
        "        if any(dice.count(i) >= 3 for i in dice):\n",
        "            return sum(dice)\n",
        "    elif category == \"Four of a Kind\":\n",
        "        if any(dice.count(i) >= 4 for i in dice):\n",
        "            return sum(dice)\n",
        "    # Add more category checks and scoring calculations for other categories\n",
        "    return 0\n",
        "\n",
        "def play_yahtzee():\n",
        "    print(\"Welcome to Yahtzee!\")\n",
        "    total_score = 0\n",
        "    for turn in range(13):\n",
        "        print(f\"\\nTurn {turn + 1}:\")\n",
        "        dice = roll_dice()\n",
        "        display_dice(dice)\n",
        "        keep = [False] * 5\n",
        "        for _ in range(2):\n",
        "            reroll = input(\"Enter dice indices to reroll (e.g., '1 3 5'), or press Enter to keep: \")\n",
        "            if reroll:\n",
        "                reroll = list(map(int, reroll.split()))\n",
        "                keep = [True if i in reroll else False for i in range(1, 6)]\n",
        "                dice = reroll_dice(dice, keep)\n",
        "                display_dice(dice)\n",
        "            else:\n",
        "                break  # Player chose to keep the current roll\n",
        "        else:\n",
        "            choice = input(\"Press Enter to continue or type 'q' to quit: \")\n",
        "            if choice.lower() == 'q':\n",
        "                print(\"Thanks for playing Yahtzee!\")\n",
        "                return  # End the game early\n",
        "        category = choose_category()\n",
        "        score = calculate_score(dice, category)\n",
        "        print(f\"You scored {score} points in the {category} category.\")\n",
        "        total_score += score\n",
        "    print(f\"\\nGame over! Your total score is {total_score}.\")\n",
        "\n",
        "categories = [\n",
        "    \"Three of a Kind\",\n",
        "    \"Four of a Kind\",\n",
        "    \"Full House\",\n",
        "    \"Small Straight\",\n",
        "    \"Large Straight\",\n",
        "    \"Yahtzee\",\n",
        "    \"Chance\"\n",
        "]\n",
        "\n",
        "play_yahtzee()\n"
      ],
      "metadata": {
        "id": "qrVa5UXdVEFb"
      },
      "execution_count": null,
      "outputs": []
    },
    {
      "cell_type": "markdown",
      "source": [
        "Assignment 4"
      ],
      "metadata": {
        "id": "siuepqjRW3_k"
      }
    },
    {
      "cell_type": "code",
      "source": [
        "import random\n",
        "\n",
        "def generate(filename: str, start_words: list, chain_length: int, num_generated: int) -> str:\n",
        "    # Read text from file\n",
        "    with open(filename, 'r', encoding='utf-8') as file:\n",
        "        text = file.read()\n",
        "\n",
        "    # Preprocess the text\n",
        "    words = text.split()\n",
        "    chains = {}\n",
        "\n",
        "    # Build Markov chains\n",
        "    for i in range(len(words) - chain_length):\n",
        "        key = tuple(words[i:i + chain_length])\n",
        "        value = words[i + chain_length]\n",
        "        if key in chains:\n",
        "            chains[key].append(value)\n",
        "        else:\n",
        "            chains[key] = [value]\n",
        "\n",
        "    # Generate text\n",
        "    start_index = random.randint(0, len(words) - chain_length)\n",
        "    current_words = tuple(words[start_index:start_index + chain_length])\n",
        "    generated_text = list(current_words)\n",
        "\n",
        "    for _ in range(num_generated):\n",
        "        if current_words not in chains:\n",
        "            break\n",
        "        next_word = random.choice(chains[current_words])\n",
        "        generated_text.append(next_word)\n",
        "        current_words = tuple(generated_text[-chain_length:])\n",
        "\n",
        "    return ' '.join(generated_text)\n",
        "\n",
        "# Example usage:\n",
        "filename = 'your_text_file.txt'\n",
        "start_words = ['This', 'is']\n",
        "chain_length = 2\n",
        "num_generated = 20\n",
        "generated_sentence = generate(filename, start_words, chain_length, num_generated)\n",
        "print(generated_sentence)"
      ],
      "metadata": {
        "id": "ys9ElyQUWQYl"
      },
      "execution_count": null,
      "outputs": []
    }
  ]
}